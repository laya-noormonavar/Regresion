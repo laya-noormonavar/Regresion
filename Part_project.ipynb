{
 "cells": [
  {
   "cell_type": "code",
   "execution_count": 215,
   "id": "34e28738",
   "metadata": {},
   "outputs": [
    {
     "data": {
      "text/html": [
       "<div>\n",
       "<style scoped>\n",
       "    .dataframe tbody tr th:only-of-type {\n",
       "        vertical-align: middle;\n",
       "    }\n",
       "\n",
       "    .dataframe tbody tr th {\n",
       "        vertical-align: top;\n",
       "    }\n",
       "\n",
       "    .dataframe thead th {\n",
       "        text-align: right;\n",
       "    }\n",
       "</style>\n",
       "<table border=\"1\" class=\"dataframe\">\n",
       "  <thead>\n",
       "    <tr style=\"text-align: right;\">\n",
       "      <th></th>\n",
       "      <th>test_case_id</th>\n",
       "      <th>module_name</th>\n",
       "      <th>response_time</th>\n",
       "      <th>processing_speed</th>\n",
       "      <th>num_of_users</th>\n",
       "      <th>cpu_usage</th>\n",
       "      <th>ram_usage</th>\n",
       "      <th>errors_encountered</th>\n",
       "      <th>time_to_failure</th>\n",
       "    </tr>\n",
       "  </thead>\n",
       "  <tbody>\n",
       "    <tr>\n",
       "      <th>0</th>\n",
       "      <td>1</td>\n",
       "      <td>Task Management</td>\n",
       "      <td>150</td>\n",
       "      <td>200</td>\n",
       "      <td>100</td>\n",
       "      <td>70</td>\n",
       "      <td>65</td>\n",
       "      <td>2</td>\n",
       "      <td>30</td>\n",
       "    </tr>\n",
       "    <tr>\n",
       "      <th>1</th>\n",
       "      <td>2</td>\n",
       "      <td>User Management</td>\n",
       "      <td>200</td>\n",
       "      <td>180</td>\n",
       "      <td>150</td>\n",
       "      <td>80</td>\n",
       "      <td>75</td>\n",
       "      <td>3</td>\n",
       "      <td>15</td>\n",
       "    </tr>\n",
       "    <tr>\n",
       "      <th>2</th>\n",
       "      <td>3</td>\n",
       "      <td>Reporting</td>\n",
       "      <td>250</td>\n",
       "      <td>160</td>\n",
       "      <td>200</td>\n",
       "      <td>85</td>\n",
       "      <td>80</td>\n",
       "      <td>4</td>\n",
       "      <td>10</td>\n",
       "    </tr>\n",
       "    <tr>\n",
       "      <th>3</th>\n",
       "      <td>4</td>\n",
       "      <td>Task Management</td>\n",
       "      <td>180</td>\n",
       "      <td>190</td>\n",
       "      <td>120</td>\n",
       "      <td>75</td>\n",
       "      <td>70</td>\n",
       "      <td>1</td>\n",
       "      <td>25</td>\n",
       "    </tr>\n",
       "    <tr>\n",
       "      <th>4</th>\n",
       "      <td>5</td>\n",
       "      <td>User Management</td>\n",
       "      <td>220</td>\n",
       "      <td>170</td>\n",
       "      <td>160</td>\n",
       "      <td>82</td>\n",
       "      <td>78</td>\n",
       "      <td>3</td>\n",
       "      <td>12</td>\n",
       "    </tr>\n",
       "    <tr>\n",
       "      <th>5</th>\n",
       "      <td>6</td>\n",
       "      <td>Reporting</td>\n",
       "      <td>300</td>\n",
       "      <td>150</td>\n",
       "      <td>180</td>\n",
       "      <td>90</td>\n",
       "      <td>85</td>\n",
       "      <td>5</td>\n",
       "      <td>8</td>\n",
       "    </tr>\n",
       "  </tbody>\n",
       "</table>\n",
       "</div>"
      ],
      "text/plain": [
       "   test_case_id      module_name  response_time  processing_speed  \\\n",
       "0             1  Task Management            150               200   \n",
       "1             2  User Management            200               180   \n",
       "2             3        Reporting            250               160   \n",
       "3             4  Task Management            180               190   \n",
       "4             5  User Management            220               170   \n",
       "5             6        Reporting            300               150   \n",
       "\n",
       "   num_of_users  cpu_usage  ram_usage  errors_encountered  time_to_failure  \n",
       "0           100         70         65                   2               30  \n",
       "1           150         80         75                   3               15  \n",
       "2           200         85         80                   4               10  \n",
       "3           120         75         70                   1               25  \n",
       "4           160         82         78                   3               12  \n",
       "5           180         90         85                   5                8  "
      ]
     },
     "execution_count": 215,
     "metadata": {},
     "output_type": "execute_result"
    }
   ],
   "source": [
    "import pandas as pd\n",
    "performance_data=pd.read_csv(r\"D:\\Laya\\project-laya\\Part-ML-project\\test_performance_data.csv\")\n",
    "performance_data.head(6)"
   ]
  },
  {
   "cell_type": "code",
   "execution_count": 216,
   "id": "7409450b",
   "metadata": {},
   "outputs": [
    {
     "name": "stdout",
     "output_type": "stream",
     "text": [
      "<class 'pandas.core.frame.DataFrame'>\n",
      "RangeIndex: 6 entries, 0 to 5\n",
      "Data columns (total 9 columns):\n",
      " #   Column              Non-Null Count  Dtype \n",
      "---  ------              --------------  ----- \n",
      " 0   test_case_id        6 non-null      int64 \n",
      " 1   module_name         6 non-null      object\n",
      " 2   response_time       6 non-null      int64 \n",
      " 3   processing_speed    6 non-null      int64 \n",
      " 4   num_of_users        6 non-null      int64 \n",
      " 5   cpu_usage           6 non-null      int64 \n",
      " 6   ram_usage           6 non-null      int64 \n",
      " 7   errors_encountered  6 non-null      int64 \n",
      " 8   time_to_failure     6 non-null      int64 \n",
      "dtypes: int64(8), object(1)\n",
      "memory usage: 564.0+ bytes\n"
     ]
    }
   ],
   "source": [
    "performance_data.info()"
   ]
  },
  {
   "cell_type": "code",
   "execution_count": 219,
   "id": "ef334429",
   "metadata": {},
   "outputs": [
    {
     "data": {
      "text/html": [
       "<div>\n",
       "<style scoped>\n",
       "    .dataframe tbody tr th:only-of-type {\n",
       "        vertical-align: middle;\n",
       "    }\n",
       "\n",
       "    .dataframe tbody tr th {\n",
       "        vertical-align: top;\n",
       "    }\n",
       "\n",
       "    .dataframe thead th {\n",
       "        text-align: right;\n",
       "    }\n",
       "</style>\n",
       "<table border=\"1\" class=\"dataframe\">\n",
       "  <thead>\n",
       "    <tr style=\"text-align: right;\">\n",
       "      <th></th>\n",
       "      <th>test_case_id</th>\n",
       "      <th>module_name</th>\n",
       "      <th>response_time</th>\n",
       "      <th>processing_speed</th>\n",
       "      <th>num_of_users</th>\n",
       "      <th>cpu_usage</th>\n",
       "      <th>ram_usage</th>\n",
       "      <th>errors_encountered</th>\n",
       "      <th>time_to_failure</th>\n",
       "    </tr>\n",
       "  </thead>\n",
       "  <tbody>\n",
       "    <tr>\n",
       "      <th>0</th>\n",
       "      <td>False</td>\n",
       "      <td>False</td>\n",
       "      <td>False</td>\n",
       "      <td>False</td>\n",
       "      <td>False</td>\n",
       "      <td>False</td>\n",
       "      <td>False</td>\n",
       "      <td>False</td>\n",
       "      <td>False</td>\n",
       "    </tr>\n",
       "    <tr>\n",
       "      <th>1</th>\n",
       "      <td>False</td>\n",
       "      <td>False</td>\n",
       "      <td>False</td>\n",
       "      <td>False</td>\n",
       "      <td>False</td>\n",
       "      <td>False</td>\n",
       "      <td>False</td>\n",
       "      <td>False</td>\n",
       "      <td>False</td>\n",
       "    </tr>\n",
       "    <tr>\n",
       "      <th>2</th>\n",
       "      <td>False</td>\n",
       "      <td>False</td>\n",
       "      <td>False</td>\n",
       "      <td>False</td>\n",
       "      <td>False</td>\n",
       "      <td>False</td>\n",
       "      <td>False</td>\n",
       "      <td>False</td>\n",
       "      <td>False</td>\n",
       "    </tr>\n",
       "    <tr>\n",
       "      <th>3</th>\n",
       "      <td>False</td>\n",
       "      <td>False</td>\n",
       "      <td>False</td>\n",
       "      <td>False</td>\n",
       "      <td>False</td>\n",
       "      <td>False</td>\n",
       "      <td>False</td>\n",
       "      <td>False</td>\n",
       "      <td>False</td>\n",
       "    </tr>\n",
       "    <tr>\n",
       "      <th>4</th>\n",
       "      <td>False</td>\n",
       "      <td>False</td>\n",
       "      <td>False</td>\n",
       "      <td>False</td>\n",
       "      <td>False</td>\n",
       "      <td>False</td>\n",
       "      <td>False</td>\n",
       "      <td>False</td>\n",
       "      <td>False</td>\n",
       "    </tr>\n",
       "    <tr>\n",
       "      <th>5</th>\n",
       "      <td>False</td>\n",
       "      <td>False</td>\n",
       "      <td>False</td>\n",
       "      <td>False</td>\n",
       "      <td>False</td>\n",
       "      <td>False</td>\n",
       "      <td>False</td>\n",
       "      <td>False</td>\n",
       "      <td>False</td>\n",
       "    </tr>\n",
       "  </tbody>\n",
       "</table>\n",
       "</div>"
      ],
      "text/plain": [
       "   test_case_id  module_name  response_time  processing_speed  num_of_users  \\\n",
       "0         False        False          False             False         False   \n",
       "1         False        False          False             False         False   \n",
       "2         False        False          False             False         False   \n",
       "3         False        False          False             False         False   \n",
       "4         False        False          False             False         False   \n",
       "5         False        False          False             False         False   \n",
       "\n",
       "   cpu_usage  ram_usage  errors_encountered  time_to_failure  \n",
       "0      False      False               False            False  \n",
       "1      False      False               False            False  \n",
       "2      False      False               False            False  \n",
       "3      False      False               False            False  \n",
       "4      False      False               False            False  \n",
       "5      False      False               False            False  "
      ]
     },
     "execution_count": 219,
     "metadata": {},
     "output_type": "execute_result"
    }
   ],
   "source": [
    "#Is null data..?\n",
    "performance_data.isna()"
   ]
  },
  {
   "cell_type": "code",
   "execution_count": 217,
   "id": "56f8d5ff",
   "metadata": {},
   "outputs": [
    {
     "data": {
      "text/html": [
       "<div>\n",
       "<style scoped>\n",
       "    .dataframe tbody tr th:only-of-type {\n",
       "        vertical-align: middle;\n",
       "    }\n",
       "\n",
       "    .dataframe tbody tr th {\n",
       "        vertical-align: top;\n",
       "    }\n",
       "\n",
       "    .dataframe thead th {\n",
       "        text-align: right;\n",
       "    }\n",
       "</style>\n",
       "<table border=\"1\" class=\"dataframe\">\n",
       "  <thead>\n",
       "    <tr style=\"text-align: right;\">\n",
       "      <th></th>\n",
       "      <th>test_case_id</th>\n",
       "      <th>response_time</th>\n",
       "      <th>processing_speed</th>\n",
       "      <th>num_of_users</th>\n",
       "      <th>cpu_usage</th>\n",
       "      <th>ram_usage</th>\n",
       "      <th>errors_encountered</th>\n",
       "      <th>time_to_failure</th>\n",
       "    </tr>\n",
       "  </thead>\n",
       "  <tbody>\n",
       "    <tr>\n",
       "      <th>count</th>\n",
       "      <td>6.000000</td>\n",
       "      <td>6.000000</td>\n",
       "      <td>6.000000</td>\n",
       "      <td>6.000000</td>\n",
       "      <td>6.000000</td>\n",
       "      <td>6.00000</td>\n",
       "      <td>6.000000</td>\n",
       "      <td>6.000000</td>\n",
       "    </tr>\n",
       "    <tr>\n",
       "      <th>mean</th>\n",
       "      <td>3.500000</td>\n",
       "      <td>216.666667</td>\n",
       "      <td>175.000000</td>\n",
       "      <td>151.666667</td>\n",
       "      <td>80.333333</td>\n",
       "      <td>75.50000</td>\n",
       "      <td>3.000000</td>\n",
       "      <td>16.666667</td>\n",
       "    </tr>\n",
       "    <tr>\n",
       "      <th>std</th>\n",
       "      <td>1.870829</td>\n",
       "      <td>53.166405</td>\n",
       "      <td>18.708287</td>\n",
       "      <td>37.103459</td>\n",
       "      <td>7.118052</td>\n",
       "      <td>7.17635</td>\n",
       "      <td>1.414214</td>\n",
       "      <td>8.846845</td>\n",
       "    </tr>\n",
       "    <tr>\n",
       "      <th>min</th>\n",
       "      <td>1.000000</td>\n",
       "      <td>150.000000</td>\n",
       "      <td>150.000000</td>\n",
       "      <td>100.000000</td>\n",
       "      <td>70.000000</td>\n",
       "      <td>65.00000</td>\n",
       "      <td>1.000000</td>\n",
       "      <td>8.000000</td>\n",
       "    </tr>\n",
       "    <tr>\n",
       "      <th>25%</th>\n",
       "      <td>2.250000</td>\n",
       "      <td>185.000000</td>\n",
       "      <td>162.500000</td>\n",
       "      <td>127.500000</td>\n",
       "      <td>76.250000</td>\n",
       "      <td>71.25000</td>\n",
       "      <td>2.250000</td>\n",
       "      <td>10.500000</td>\n",
       "    </tr>\n",
       "    <tr>\n",
       "      <th>50%</th>\n",
       "      <td>3.500000</td>\n",
       "      <td>210.000000</td>\n",
       "      <td>175.000000</td>\n",
       "      <td>155.000000</td>\n",
       "      <td>81.000000</td>\n",
       "      <td>76.50000</td>\n",
       "      <td>3.000000</td>\n",
       "      <td>13.500000</td>\n",
       "    </tr>\n",
       "    <tr>\n",
       "      <th>75%</th>\n",
       "      <td>4.750000</td>\n",
       "      <td>242.500000</td>\n",
       "      <td>187.500000</td>\n",
       "      <td>175.000000</td>\n",
       "      <td>84.250000</td>\n",
       "      <td>79.50000</td>\n",
       "      <td>3.750000</td>\n",
       "      <td>22.500000</td>\n",
       "    </tr>\n",
       "    <tr>\n",
       "      <th>max</th>\n",
       "      <td>6.000000</td>\n",
       "      <td>300.000000</td>\n",
       "      <td>200.000000</td>\n",
       "      <td>200.000000</td>\n",
       "      <td>90.000000</td>\n",
       "      <td>85.00000</td>\n",
       "      <td>5.000000</td>\n",
       "      <td>30.000000</td>\n",
       "    </tr>\n",
       "  </tbody>\n",
       "</table>\n",
       "</div>"
      ],
      "text/plain": [
       "       test_case_id  response_time  processing_speed  num_of_users  cpu_usage  \\\n",
       "count      6.000000       6.000000          6.000000      6.000000   6.000000   \n",
       "mean       3.500000     216.666667        175.000000    151.666667  80.333333   \n",
       "std        1.870829      53.166405         18.708287     37.103459   7.118052   \n",
       "min        1.000000     150.000000        150.000000    100.000000  70.000000   \n",
       "25%        2.250000     185.000000        162.500000    127.500000  76.250000   \n",
       "50%        3.500000     210.000000        175.000000    155.000000  81.000000   \n",
       "75%        4.750000     242.500000        187.500000    175.000000  84.250000   \n",
       "max        6.000000     300.000000        200.000000    200.000000  90.000000   \n",
       "\n",
       "       ram_usage  errors_encountered  time_to_failure  \n",
       "count    6.00000            6.000000         6.000000  \n",
       "mean    75.50000            3.000000        16.666667  \n",
       "std      7.17635            1.414214         8.846845  \n",
       "min     65.00000            1.000000         8.000000  \n",
       "25%     71.25000            2.250000        10.500000  \n",
       "50%     76.50000            3.000000        13.500000  \n",
       "75%     79.50000            3.750000        22.500000  \n",
       "max     85.00000            5.000000        30.000000  "
      ]
     },
     "execution_count": 217,
     "metadata": {},
     "output_type": "execute_result"
    }
   ],
   "source": [
    "performance_data.describe()"
   ]
  },
  {
   "cell_type": "code",
   "execution_count": 218,
   "id": "537ee358",
   "metadata": {},
   "outputs": [
    {
     "data": {
      "image/png": "[encoded data removed]",
      "text/plain": [
       "<Figure size 1000x700 with 9 Axes>"
      ]
     },
     "metadata": {},
     "output_type": "display_data"
    }
   ],
   "source": [
    "import matplotlib.pyplot as plt\n",
    "performance_data.hist(bins=100,figsize=(10,7))\n",
    "plt.show()"
   ]
  },
  {
   "cell_type": "code",
   "execution_count": 220,
   "id": "2da8ef3c",
   "metadata": {},
   "outputs": [],
   "source": [
    "#normalize\n",
    "from sklearn.preprocessing import MinMaxScaler\n",
    "\n",
    "scaler = MinMaxScaler()\n",
    "performance_data[['response_time','processing_speed','num_of_users','cpu_usage','ram_usage','errors_encountered']] = scaler.fit_transform(performance_data[['response_time','processing_speed','num_of_users','cpu_usage','ram_usage','errors_encountered']])"
   ]
  },
  {
   "cell_type": "code",
   "execution_count": 221,
   "id": "f89c2a5e",
   "metadata": {},
   "outputs": [
    {
     "data": {
      "text/html": [
       "<div>\n",
       "<style scoped>\n",
       "    .dataframe tbody tr th:only-of-type {\n",
       "        vertical-align: middle;\n",
       "    }\n",
       "\n",
       "    .dataframe tbody tr th {\n",
       "        vertical-align: top;\n",
       "    }\n",
       "\n",
       "    .dataframe thead th {\n",
       "        text-align: right;\n",
       "    }\n",
       "</style>\n",
       "<table border=\"1\" class=\"dataframe\">\n",
       "  <thead>\n",
       "    <tr style=\"text-align: right;\">\n",
       "      <th></th>\n",
       "      <th>test_case_id</th>\n",
       "      <th>module_name</th>\n",
       "      <th>response_time</th>\n",
       "      <th>processing_speed</th>\n",
       "      <th>num_of_users</th>\n",
       "      <th>cpu_usage</th>\n",
       "      <th>ram_usage</th>\n",
       "      <th>errors_encountered</th>\n",
       "      <th>time_to_failure</th>\n",
       "    </tr>\n",
       "  </thead>\n",
       "  <tbody>\n",
       "    <tr>\n",
       "      <th>0</th>\n",
       "      <td>1</td>\n",
       "      <td>Task Management</td>\n",
       "      <td>0.000000</td>\n",
       "      <td>1.0</td>\n",
       "      <td>0.0</td>\n",
       "      <td>0.00</td>\n",
       "      <td>0.00</td>\n",
       "      <td>0.25</td>\n",
       "      <td>30</td>\n",
       "    </tr>\n",
       "    <tr>\n",
       "      <th>1</th>\n",
       "      <td>2</td>\n",
       "      <td>User Management</td>\n",
       "      <td>0.333333</td>\n",
       "      <td>0.6</td>\n",
       "      <td>0.5</td>\n",
       "      <td>0.50</td>\n",
       "      <td>0.50</td>\n",
       "      <td>0.50</td>\n",
       "      <td>15</td>\n",
       "    </tr>\n",
       "    <tr>\n",
       "      <th>2</th>\n",
       "      <td>3</td>\n",
       "      <td>Reporting</td>\n",
       "      <td>0.666667</td>\n",
       "      <td>0.2</td>\n",
       "      <td>1.0</td>\n",
       "      <td>0.75</td>\n",
       "      <td>0.75</td>\n",
       "      <td>0.75</td>\n",
       "      <td>10</td>\n",
       "    </tr>\n",
       "    <tr>\n",
       "      <th>3</th>\n",
       "      <td>4</td>\n",
       "      <td>Task Management</td>\n",
       "      <td>0.200000</td>\n",
       "      <td>0.8</td>\n",
       "      <td>0.2</td>\n",
       "      <td>0.25</td>\n",
       "      <td>0.25</td>\n",
       "      <td>0.00</td>\n",
       "      <td>25</td>\n",
       "    </tr>\n",
       "    <tr>\n",
       "      <th>4</th>\n",
       "      <td>5</td>\n",
       "      <td>User Management</td>\n",
       "      <td>0.466667</td>\n",
       "      <td>0.4</td>\n",
       "      <td>0.6</td>\n",
       "      <td>0.60</td>\n",
       "      <td>0.65</td>\n",
       "      <td>0.50</td>\n",
       "      <td>12</td>\n",
       "    </tr>\n",
       "    <tr>\n",
       "      <th>5</th>\n",
       "      <td>6</td>\n",
       "      <td>Reporting</td>\n",
       "      <td>1.000000</td>\n",
       "      <td>0.0</td>\n",
       "      <td>0.8</td>\n",
       "      <td>1.00</td>\n",
       "      <td>1.00</td>\n",
       "      <td>1.00</td>\n",
       "      <td>8</td>\n",
       "    </tr>\n",
       "  </tbody>\n",
       "</table>\n",
       "</div>"
      ],
      "text/plain": [
       "   test_case_id      module_name  response_time  processing_speed  \\\n",
       "0             1  Task Management       0.000000               1.0   \n",
       "1             2  User Management       0.333333               0.6   \n",
       "2             3        Reporting       0.666667               0.2   \n",
       "3             4  Task Management       0.200000               0.8   \n",
       "4             5  User Management       0.466667               0.4   \n",
       "5             6        Reporting       1.000000               0.0   \n",
       "\n",
       "   num_of_users  cpu_usage  ram_usage  errors_encountered  time_to_failure  \n",
       "0           0.0       0.00       0.00                0.25               30  \n",
       "1           0.5       0.50       0.50                0.50               15  \n",
       "2           1.0       0.75       0.75                0.75               10  \n",
       "3           0.2       0.25       0.25                0.00               25  \n",
       "4           0.6       0.60       0.65                0.50               12  \n",
       "5           0.8       1.00       1.00                1.00                8  "
      ]
     },
     "execution_count": 221,
     "metadata": {},
     "output_type": "execute_result"
    }
   ],
   "source": [
    "performance_data.head(6)"
   ]
  },
  {
   "cell_type": "code",
   "execution_count": 222,
   "id": "a3e156b5",
   "metadata": {},
   "outputs": [
    {
     "data": {
      "image/png": "[encoded data removed]",
      "text/plain": [
       "<Figure size 640x480 with 1 Axes>"
      ]
     },
     "metadata": {},
     "output_type": "display_data"
    }
   ],
   "source": [
    "data_features=['response_time','processing_speed','num_of_users','cpu_usage','ram_usage','errors_encountered']\n",
    "X=performance_data[data_features]\n",
    "y=performance_data.time_to_failure\n",
    "plt.plot(X,y,'o')\n",
    "plt.title(\"Normalize_Feature\")\n",
    "plt.show()"
   ]
  },
  {
   "cell_type": "code",
   "execution_count": 223,
   "id": "91f37eb4",
   "metadata": {},
   "outputs": [],
   "source": [
    "from sklearn.model_selection import train_test_split\n",
    "X_train, X_test, y_train, y_test = train_test_split(X, y,test_size=0.2, random_state=42)\n"
   ]
  },
  {
   "cell_type": "code",
   "execution_count": 224,
   "id": "fc6996d5",
   "metadata": {
    "scrolled": true
   },
   "outputs": [
    {
     "data": {
      "text/html": [
       "<style>#sk-container-id-41 {color: black;}#sk-container-id-41 pre{padding: 0;}#sk-container-id-41 div.sk-toggleable {background-color: white;}#sk-container-id-41 label.sk-toggleable__label {cursor: pointer;display: block;width: 100%;margin-bottom: 0;padding: 0.3em;box-sizing: border-box;text-align: center;}#sk-container-id-41 label.sk-toggleable__label-arrow:before {content: \"▸\";float: left;margin-right: 0.25em;color: #696969;}#sk-container-id-41 label.sk-toggleable__label-arrow:hover:before {color: black;}#sk-container-id-41 div.sk-estimator:hover label.sk-toggleable__label-arrow:before {color: black;}#sk-container-id-41 div.sk-toggleable__content {max-height: 0;max-width: 0;overflow: hidden;text-align: left;background-color: #f0f8ff;}#sk-container-id-41 div.sk-toggleable__content pre {margin: 0.2em;color: black;border-radius: 0.25em;background-color: #f0f8ff;}#sk-container-id-41 input.sk-toggleable__control:checked~div.sk-toggleable__content {max-height: 200px;max-width: 100%;overflow: auto;}#sk-container-id-41 input.sk-toggleable__control:checked~label.sk-toggleable__label-arrow:before {content: \"▾\";}#sk-container-id-41 div.sk-estimator input.sk-toggleable__control:checked~label.sk-toggleable__label {background-color: #d4ebff;}#sk-container-id-41 div.sk-label input.sk-toggleable__control:checked~label.sk-toggleable__label {background-color: #d4ebff;}#sk-container-id-41 input.sk-hidden--visually {border: 0;clip: rect(1px 1px 1px 1px);clip: rect(1px, 1px, 1px, 1px);height: 1px;margin: -1px;overflow: hidden;padding: 0;position: absolute;width: 1px;}#sk-container-id-41 div.sk-estimator {font-family: monospace;background-color: #f0f8ff;border: 1px dotted black;border-radius: 0.25em;box-sizing: border-box;margin-bottom: 0.5em;}#sk-container-id-41 div.sk-estimator:hover {background-color: #d4ebff;}#sk-container-id-41 div.sk-parallel-item::after {content: \"\";width: 100%;border-bottom: 1px solid gray;flex-grow: 1;}#sk-container-id-41 div.sk-label:hover label.sk-toggleable__label {background-color: #d4ebff;}#sk-container-id-41 div.sk-serial::before {content: \"\";position: absolute;border-left: 1px solid gray;box-sizing: border-box;top: 0;bottom: 0;left: 50%;z-index: 0;}#sk-container-id-41 div.sk-serial {display: flex;flex-direction: column;align-items: center;background-color: white;padding-right: 0.2em;padding-left: 0.2em;position: relative;}#sk-container-id-41 div.sk-item {position: relative;z-index: 1;}#sk-container-id-41 div.sk-parallel {display: flex;align-items: stretch;justify-content: center;background-color: white;position: relative;}#sk-container-id-41 div.sk-item::before, #sk-container-id-41 div.sk-parallel-item::before {content: \"\";position: absolute;border-left: 1px solid gray;box-sizing: border-box;top: 0;bottom: 0;left: 50%;z-index: -1;}#sk-container-id-41 div.sk-parallel-item {display: flex;flex-direction: column;z-index: 1;position: relative;background-color: white;}#sk-container-id-41 div.sk-parallel-item:first-child::after {align-self: flex-end;width: 50%;}#sk-container-id-41 div.sk-parallel-item:last-child::after {align-self: flex-start;width: 50%;}#sk-container-id-41 div.sk-parallel-item:only-child::after {width: 0;}#sk-container-id-41 div.sk-dashed-wrapped {border: 1px dashed gray;margin: 0 0.4em 0.5em 0.4em;box-sizing: border-box;padding-bottom: 0.4em;background-color: white;}#sk-container-id-41 div.sk-label label {font-family: monospace;font-weight: bold;display: inline-block;line-height: 1.2em;}#sk-container-id-41 div.sk-label-container {text-align: center;}#sk-container-id-41 div.sk-container {/* jupyter's `normalize.less` sets `[hidden] { display: none; }` but bootstrap.min.css set `[hidden] { display: none !important; }` so we also need the `!important` here to be able to override the default hidden behavior on the sphinx rendered scikit-learn.org. See: https://github.com/scikit-learn/scikit-learn/issues/21755 */display: inline-block !important;position: relative;}#sk-container-id-41 div.sk-text-repr-fallback {display: none;}</style><div id=\"sk-container-id-41\" class=\"sk-top-container\"><div class=\"sk-text-repr-fallback\"><pre>LinearRegression()</pre><b>In a Jupyter environment, please rerun this cell to show the HTML representation or trust the notebook. <br />On GitHub, the HTML representation is unable to render, please try loading this page with nbviewer.org.</b></div><div class=\"sk-container\" hidden><div class=\"sk-item\"><div class=\"sk-estimator sk-toggleable\"><input class=\"sk-toggleable__control sk-hidden--visually\" id=\"sk-estimator-id-41\" type=\"checkbox\" checked><label for=\"sk-estimator-id-41\" class=\"sk-toggleable__label sk-toggleable__label-arrow\">LinearRegression</label><div class=\"sk-toggleable__content\"><pre>LinearRegression()</pre></div></div></div></div></div>"
      ],
      "text/plain": [
       "LinearRegression()"
      ]
     },
     "execution_count": 224,
     "metadata": {},
     "output_type": "execute_result"
    }
   ],
   "source": [
    "#Linear Regression model:\n",
    "from sklearn.linear_model import LinearRegression\n",
    "model = LinearRegression()\n",
    "#Fit train data\n",
    "model.fit(X_train, y_train)"
   ]
  },
  {
   "cell_type": "code",
   "execution_count": 230,
   "id": "c4dc2b40",
   "metadata": {},
   "outputs": [
    {
     "data": {
      "text/plain": [
       "(0    30\n",
       " 1    15\n",
       " Name: time_to_failure, dtype: int64,\n",
       " array([26.28630464, 14.22003751]))"
      ]
     },
     "execution_count": 230,
     "metadata": {},
     "output_type": "execute_result"
    }
   ],
   "source": [
    "#Predict by LinearRegresion Model\n",
    "y_pred = model.predict(X_test)\n",
    "(y_test,y_pred)"
   ]
  },
  {
   "cell_type": "code",
   "execution_count": 226,
   "id": "a1373346",
   "metadata": {},
   "outputs": [
    {
     "data": {
      "text/plain": [
       "(7.199937361989229, 0.8720011135646359)"
      ]
     },
     "execution_count": 226,
     "metadata": {},
     "output_type": "execute_result"
    }
   ],
   "source": [
    "#MSE For LinearRegresion\n",
    "from sklearn.metrics import mean_squared_error, r2_score\n",
    "mse = mean_squared_error(y_test, y_pred)\n",
    "\n",
    "r2 = r2_score(y_test, y_pred)\n",
    "\n",
    "(mse,r2)"
   ]
  },
  {
   "cell_type": "code",
   "execution_count": 227,
   "id": "26757f63",
   "metadata": {},
   "outputs": [
    {
     "data": {
      "text/plain": [
       "(0    30\n",
       " 1    15\n",
       " Name: time_to_failure, dtype: int64,\n",
       " array([25., 12.]))"
      ]
     },
     "execution_count": 227,
     "metadata": {},
     "output_type": "execute_result"
    }
   ],
   "source": [
    "#DecisionTreeRegressor\n",
    "from sklearn.tree import DecisionTreeRegressor\n",
    "model_reg = DecisionTreeRegressor()\n",
    "#Fit train data\n",
    "model_reg.fit(X_train, y_train)\n",
    "#predict\n",
    "y_pred_reg = model_reg.predict(X_test)\n",
    "(y_test,y_pred_reg)"
   ]
  },
  {
   "cell_type": "code",
   "execution_count": 228,
   "id": "c696c845",
   "metadata": {},
   "outputs": [
    {
     "data": {
      "text/plain": [
       "(7.199937361989229, 0.8720011135646359)"
      ]
     },
     "execution_count": 228,
     "metadata": {},
     "output_type": "execute_result"
    }
   ],
   "source": [
    "#MSE For DecisionTreeRegressor\n",
    "from sklearn.metrics import mean_squared_error, r2_score\n",
    "mse_reg = mean_squared_error(y_test, y_pred_reg)\n",
    "\n",
    "r2_reg = r2_score(y_test, y_pred_reg)\n",
    "\n",
    "(mse,r2)"
   ]
  },
  {
   "cell_type": "code",
   "execution_count": 231,
   "id": "fab38cd2",
   "metadata": {
    "scrolled": true
   },
   "outputs": [
    {
     "data": {
      "text/html": [
       "<div>\n",
       "<style scoped>\n",
       "    .dataframe tbody tr th:only-of-type {\n",
       "        vertical-align: middle;\n",
       "    }\n",
       "\n",
       "    .dataframe tbody tr th {\n",
       "        vertical-align: top;\n",
       "    }\n",
       "\n",
       "    .dataframe thead th {\n",
       "        text-align: right;\n",
       "    }\n",
       "</style>\n",
       "<table border=\"1\" class=\"dataframe\">\n",
       "  <thead>\n",
       "    <tr style=\"text-align: right;\">\n",
       "      <th></th>\n",
       "      <th>response_time</th>\n",
       "      <th>processing_speed</th>\n",
       "      <th>num_of_users</th>\n",
       "      <th>cpu_usage</th>\n",
       "      <th>ram_usage</th>\n",
       "      <th>errors_encountered</th>\n",
       "    </tr>\n",
       "  </thead>\n",
       "  <tbody>\n",
       "    <tr>\n",
       "      <th>0</th>\n",
       "      <td>0.000000</td>\n",
       "      <td>1.0</td>\n",
       "      <td>0.0</td>\n",
       "      <td>0.0</td>\n",
       "      <td>0.0</td>\n",
       "      <td>0.25</td>\n",
       "    </tr>\n",
       "    <tr>\n",
       "      <th>1</th>\n",
       "      <td>0.333333</td>\n",
       "      <td>0.6</td>\n",
       "      <td>0.5</td>\n",
       "      <td>0.5</td>\n",
       "      <td>0.5</td>\n",
       "      <td>0.50</td>\n",
       "    </tr>\n",
       "  </tbody>\n",
       "</table>\n",
       "</div>"
      ],
      "text/plain": [
       "   response_time  processing_speed  num_of_users  cpu_usage  ram_usage  \\\n",
       "0       0.000000               1.0           0.0        0.0        0.0   \n",
       "1       0.333333               0.6           0.5        0.5        0.5   \n",
       "\n",
       "   errors_encountered  \n",
       "0                0.25  \n",
       "1                0.50  "
      ]
     },
     "execution_count": 231,
     "metadata": {},
     "output_type": "execute_result"
    }
   ],
   "source": [
    "X_test"
   ]
  },
  {
   "cell_type": "code",
   "execution_count": 232,
   "id": "19eed8df",
   "metadata": {},
   "outputs": [
    {
     "data": {
      "text/plain": [
       "0    30\n",
       "1    15\n",
       "Name: time_to_failure, dtype: int64"
      ]
     },
     "execution_count": 232,
     "metadata": {},
     "output_type": "execute_result"
    }
   ],
   "source": [
    "y_test"
   ]
  },
  {
   "cell_type": "code",
   "execution_count": 233,
   "id": "6bbfb86a",
   "metadata": {},
   "outputs": [
    {
     "data": {
      "text/plain": [
       "array([26.28630464, 14.22003751])"
      ]
     },
     "execution_count": 233,
     "metadata": {},
     "output_type": "execute_result"
    }
   ],
   "source": [
    "y_pred"
   ]
  },
  {
   "cell_type": "code",
   "execution_count": 234,
   "id": "e6ec8fd1",
   "metadata": {},
   "outputs": [
    {
     "data": {
      "text/plain": [
       "array([25., 12.])"
      ]
     },
     "execution_count": 234,
     "metadata": {},
     "output_type": "execute_result"
    }
   ],
   "source": [
    "y_pred_reg"
   ]
  }
 ],
 "metadata": {
  "kernelspec": {
   "display_name": "Python 3 (ipykernel)",
   "language": "python",
   "name": "python3"
  },
  "language_info": {
   "codemirror_mode": {
    "name": "ipython",
    "version": 3
   },
   "file_extension": ".py",
   "mimetype": "text/x-python",
   "name": "python",
   "nbconvert_exporter": "python",
   "pygments_lexer": "ipython3",
   "version": "3.11.5"
  }
 },
 "nbformat": 4,
 "nbformat_minor": 5
}
